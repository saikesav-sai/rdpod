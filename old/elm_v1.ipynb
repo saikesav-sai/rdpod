{
 "cells": [
  {
   "cell_type": "code",
   "execution_count": 71,
   "metadata": {},
   "outputs": [
    {
     "name": "stdout",
     "output_type": "stream",
     "text": [
      "37 (37, 37) (4438, 37) (37, 4438)\n",
      "(4438, 37) (37, 37) (4438, 37) (37, 4438) (4438, 4438)\n",
      "(4438, 4438)\n",
      "[31970.18186175 17563.91405087 21724.35734702 ... 13183.65436399\n",
      " 12714.33497109 13017.20164931] 17644.587582004657\n",
      "outliers row values\n",
      "     a1  a2   a3   a4  a5  a6   a7   a8  a9  a10  ...  a28  a29  a30  a31  \\\n",
      "0    50  12  547   84  25  63   45   12   5  415  ...   12    5  415   50   \n",
      "2    50  12  547   84  25  63   45  102  83  101  ...   50   12  547   84   \n",
      "529  41  32  139  150  44  32  139  154  44   29  ...  109   46   40  119   \n",
      "530  44  32  139  154  44  29  145  150  44   29  ...  139   42   30  135   \n",
      "588  46  29  138  151  49  32  138  151  46   29  ...  115   44   34  129   \n",
      "\n",
      "     a32  a33  a34  a35  a36  a37  \n",
      "0     12  547   84   25   63   45  \n",
      "2     25   63   45  102   83  101  \n",
      "529  139   42   30  135  157    2  \n",
      "530  157   42   30  140  150    2  \n",
      "588  143   42   29  135  150    2  \n",
      "\n",
      "[5 rows x 37 columns]\n"
     ]
    }
   ],
   "source": [
    "import numpy as np\n",
    "import pandas as pd\n",
    "from sklearn.preprocessing import StandardScaler\n",
    "\n",
    "class ELMOutlierDetector:\n",
    "    def __init__(self, hidden_layer_size=100, activation_func='relu'):\n",
    "        self.hidden_layer_size = hidden_layer_size\n",
    "        self.activation_func = activation_func\n",
    "\n",
    "    def fit(self, X):\n",
    "        input_size = X.shape[1]\n",
    "        self.hidden_weights = np.random.randn(input_size, self.hidden_layer_size)\n",
    "        H = np.maximum(0, np.dot(X, self.hidden_weights))\n",
    "        self.output_weights = np.linalg.pinv(H)\n",
    "        print(input_size, self.hidden_weights.shape, H.shape, self.output_weights.shape)\n",
    "\n",
    "    def predict(self, X):\n",
    "        H = np.maximum(0, np.dot(X, self.hidden_weights))\n",
    "        # self.output_weights= np.linalg.pinv(self.output_weights)\n",
    "        print(X.shape,self.hidden_weights.shape, H.shape, self.output_weights.shape, np.dot(H, self.output_weights).shape) \n",
    "        predictions = np.dot(H, self.output_weights)\n",
    "        print(predictions.shape)\n",
    "        errors = np.linalg.norm(X - np.dot(H, self.hidden_weights), axis=1)\n",
    "        return errors\n",
    "\n",
    "\n",
    "\n",
    "\n",
    "# Example usage\n",
    "file_path = \"statlog_data_set.csv\"\n",
    "dataset = pd.DataFrame(pd.read_csv(file_path))\n",
    "\n",
    "# # Standardize the data\n",
    "# scaler = StandardScaler()\n",
    "# dataset_scaled = scaler.fit_transform(dataset)\n",
    "\n",
    "# Instantiate and use ELMOutlierDetector\n",
    "elm_detector = ELMOutlierDetector(hidden_layer_size=dataset.shape[1])\n",
    "elm_detector.fit(dataset)\n",
    "outlier_scores = elm_detector.predict(dataset)\n",
    "threshold = np.percentile(outlier_scores, 99.9) #the value is the threshold for the outliers\n",
    "outliers = dataset[outlier_scores > threshold]\n",
    "print(outlier_scores,threshold)\n",
    "print(\"outliers row values\")\n",
    "print(outliers)\n",
    "\n",
    "\n",
    "# #comparing the outliers with the data and printing their row numbers    \n",
    "# for i in range(len(outliers)):\n",
    "#     print(\"Row number of the outlier is: \", dataset[dataset.eq(outliers[i]).all(1)].index.values)\n",
    "#     # print(\"The outlier is: \", outliers[i])\n",
    "#     print(\"\\n\")\n",
    "\n"
   ]
  }
 ],
 "metadata": {
  "kernelspec": {
   "display_name": "research",
   "language": "python",
   "name": "research"
  },
  "language_info": {
   "codemirror_mode": {
    "name": "ipython",
    "version": 3
   },
   "file_extension": ".py",
   "mimetype": "text/x-python",
   "name": "python",
   "nbconvert_exporter": "python",
   "pygments_lexer": "ipython3",
   "version": "3.10.6"
  }
 },
 "nbformat": 4,
 "nbformat_minor": 2
}
