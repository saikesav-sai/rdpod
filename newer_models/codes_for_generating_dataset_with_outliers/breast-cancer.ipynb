{
 "cells": [
  {
   "cell_type": "code",
   "execution_count": 35,
   "metadata": {},
   "outputs": [],
   "source": [
    "import pandas as pd\n",
    "import numpy as np\n",
    "import random"
   ]
  },
  {
   "cell_type": "code",
   "execution_count": 36,
   "metadata": {},
   "outputs": [
    {
     "name": "stdout",
     "output_type": "stream",
     "text": [
      "         id  diagnosis  radius_mean  texture_mean  perimeter_mean  area_mean  \\\n",
      "0    842302          1        17.99         10.38          122.80     1001.0   \n",
      "1    842517          1        20.57         17.77          132.90     1326.0   \n",
      "2  84300903          1        19.69         21.25          130.00     1203.0   \n",
      "3  84348301          1        11.42         20.38           77.58      386.1   \n",
      "4  84358402          1        20.29         14.34          135.10     1297.0   \n",
      "\n",
      "   smoothness_mean  compactness_mean  concavity_mean  concave points_mean  \\\n",
      "0          0.11840           0.27760          0.3001              0.14710   \n",
      "1          0.08474           0.07864          0.0869              0.07017   \n",
      "2          0.10960           0.15990          0.1974              0.12790   \n",
      "3          0.14250           0.28390          0.2414              0.10520   \n",
      "4          0.10030           0.13280          0.1980              0.10430   \n",
      "\n",
      "   ...  texture_worst  perimeter_worst  area_worst  smoothness_worst  \\\n",
      "0  ...          17.33           184.60      2019.0            0.1622   \n",
      "1  ...          23.41           158.80      1956.0            0.1238   \n",
      "2  ...          25.53           152.50      1709.0            0.1444   \n",
      "3  ...          26.50            98.87       567.7            0.2098   \n",
      "4  ...          16.67           152.20      1575.0            0.1374   \n",
      "\n",
      "   compactness_worst  concavity_worst  concave points_worst  symmetry_worst  \\\n",
      "0             0.6656           0.7119                0.2654          0.4601   \n",
      "1             0.1866           0.2416                0.1860          0.2750   \n",
      "2             0.4245           0.4504                0.2430          0.3613   \n",
      "3             0.8663           0.6869                0.2575          0.6638   \n",
      "4             0.2050           0.4000                0.1625          0.2364   \n",
      "\n",
      "   fractal_dimension_worst  result  \n",
      "0                  0.11890       1  \n",
      "1                  0.08902       1  \n",
      "2                  0.08758       1  \n",
      "3                  0.17300       1  \n",
      "4                  0.07678       1  \n",
      "\n",
      "[5 rows x 33 columns]\n"
     ]
    }
   ],
   "source": [
    "df=pd.read_csv('../../dataset/breast-cancer.csv')\n",
    "#adding a new column named result and assigning it to 1\n",
    "df['result']=1\n",
    "df['diagnosis']=df['diagnosis'].replace('M',1)\n",
    "df['diagnosis']=df['diagnosis'].replace('B',0)\n",
    "#displaying the first 5 rows of the dataset\n",
    "print(df.head())"
   ]
  },
  {
   "cell_type": "code",
   "execution_count": 37,
   "metadata": {},
   "outputs": [
    {
     "name": "stdout",
     "output_type": "stream",
     "text": [
      "[86210, 0, 8, 10, 53, 215, 0, 0, 0, 0, 0, 0, 0, 0, 0, 8, 0, 0, 0, 0, 0, 0, 9, 15, 58, 256, 0, 0, 0, 0, 0, 0]\n",
      "[901034301.1, 1.1, 24.1, 30.1, 165.1, 1786.1, 0.1, 0.1, 0.1, 0.1, 0.1, 0.1, 1.1, 2.1, 9.1, 177.1, 0.1, 0.1, 0.1, 0.1, 0.1, 0.1, 30.1, 41.1, 208.1, 2918.1, 0.1, 0.1, 0.1, 0.1, 0.1, 0.1]\n",
      "[[425748783, 1, 11, 14, 124, 1764, 0, 0, 0, 0, 0, 0, 1, 1, 5, 206, 0, 0, 0, 0, 0, 0, 16, 49, 179, 653, 0, 0, 0, 0, 0, 0, -1], [216679553, 0, 10, 25, 188, 793, 0, 0, 0, 0, 0, 0, 0, 1, 6, 25, 0, 0, 0, 0, 0, 0, 20, 46, 137, 3173, 0, 0, 0, 0, 0, 0, -1], [935309817, 0, 19, 27, 94, 430, 0, 0, 0, 0, 0, 0, 1, 2, 8, 70, 0, 0, 0, 0, 0, 0, 17, 31, 129, 2859, 0, 0, 0, 0, 0, 0, -1], [167348134, 0, 10, 28, 182, 1715, 0, 0, 0, 0, 0, 0, 0, 0, 4, 106, 0, 0, 0, 0, 0, 0, 31, 19, 217, 1988, 0, 0, 0, 0, 0, 0, -1], [351727444, 0, 12, 11, 75, 310, 0, 0, 0, 0, 0, 0, 0, 0, 1, 29, 0, 0, 0, 0, 0, 0, 10, 14, 70, 326, 0, 0, 0, 0, 0, 0, -1], [560944023, 0, 14, 8, 94, 841, 0, 0, 0, 0, 0, 0, 0, 0, 1, 81, 0, 0, 0, 0, 0, 0, 15, 27, 85, 981, 0, 0, 0, 0, 0, 0, -1], [1032648427, 1, 26, 42, 180, 847, 0, 0, 0, 0, 0, 0, 0, 1, 12, 130, 0, 0, 0, 0, 0, 0, 36, 55, 289, 464, 0, 0, 0, 0, 0, 0, -1], [383304695, 0, 19, 22, 123, 1057, 0, 0, 0, 0, 0, 0, 0, 0, 2, 148, 0, 0, 0, 0, 0, 0, 24, 34, 76, 827, 0, 0, 0, 0, 0, 0, -1], [324262295, 0, 8, 12, 36, 1103, 0, 0, 0, 0, 0, 0, 0, 0, 3, 62, 0, 0, 0, 0, 0, 0, 14, 19, 117, 251, 0, 0, 0, 0, 0, 0, -1], [520210485, 0, 13, 38, 238, 733, 0, 0, 0, 0, 0, 0, 0, 2, 7, 243, 0, 0, 0, 0, 0, 0, 40, 21, 216, 634, 0, 0, 0, 0, 0, 0, -1]]\n"
     ]
    }
   ],
   "source": [
    "# randomly generating outliners for the dataset and assinging the result column to -1\n",
    "len_columns=len(df.columns)\n",
    "len_rows=len(df)\n",
    "outliers=[]\n",
    "\n",
    "min_cloumn_values=[]\n",
    "max_cloumn_values=[]\n",
    "\n",
    "\n",
    "for i in range(0,len_columns-1):\n",
    "    min_cloumn_values.append(int(np.percentile(df.iloc[:,i],1)))\n",
    "    max_cloumn_values.append(int(np.percentile(df.iloc[:,i],99))+.1)\n",
    "print(min_cloumn_values)\n",
    "print(max_cloumn_values)\n",
    "\n",
    "for i in range(0,10):\n",
    "    temp=[]\n",
    "    scaling_factor=random.uniform(.5,1.5)\n",
    "    for j in range(0,len_columns-1):\n",
    "        if max_cloumn_values[j]<=0:\n",
    "            temp.append(int(min_cloumn_values[j]))\n",
    "        else:\n",
    "            temp.append(int(np.random.uniform(min_cloumn_values[j],max_cloumn_values[j])*scaling_factor))\n",
    "    temp.append(-1)\n",
    "    outliers.append(temp)\n",
    "\n",
    "print(outliers)"
   ]
  },
  {
   "cell_type": "code",
   "execution_count": 38,
   "metadata": {},
   "outputs": [
    {
     "name": "stdout",
     "output_type": "stream",
     "text": [
      "         id  diagnosis  radius_mean  texture_mean  perimeter_mean  area_mean  \\\n",
      "0    915460          1       15.460         23.95          103.80      731.3   \n",
      "1    868999          0        9.738         11.97           61.24      288.5   \n",
      "2    869224          0       12.900         15.92           83.74      512.2   \n",
      "3  91762702          1       24.630         21.60          165.50     1841.0   \n",
      "4    884689          0       11.520         14.93           73.87      406.3   \n",
      "\n",
      "   smoothness_mean  compactness_mean  concavity_mean  concave points_mean  \\\n",
      "0          0.11830           0.18700         0.20300              0.08520   \n",
      "1          0.09250           0.04102         0.00000              0.00000   \n",
      "2          0.08677           0.09509         0.04894              0.03088   \n",
      "3          0.10300           0.21060         0.23100              0.14710   \n",
      "4          0.10130           0.07808         0.04328              0.02929   \n",
      "\n",
      "   ...  texture_worst  perimeter_worst  area_worst  smoothness_worst  \\\n",
      "0  ...          36.33           117.70       909.4            0.1732   \n",
      "1  ...          14.10            66.53       342.9            0.1234   \n",
      "2  ...          21.82            97.17       643.8            0.1312   \n",
      "3  ...          26.93           205.70      2642.0            0.1342   \n",
      "4  ...          21.19            80.88       491.8            0.1389   \n",
      "\n",
      "   compactness_worst  concavity_worst  concave points_worst  symmetry_worst  \\\n",
      "0            0.49670           0.5911               0.21630          0.3013   \n",
      "1            0.07204           0.0000               0.00000          0.3105   \n",
      "2            0.25480           0.2090               0.10120          0.3549   \n",
      "3            0.41880           0.4658               0.24750          0.3157   \n",
      "4            0.15820           0.1804               0.09608          0.2664   \n",
      "\n",
      "   fractal_dimension_worst  result  \n",
      "0                  0.10670       1  \n",
      "1                  0.08151       1  \n",
      "2                  0.08118       1  \n",
      "3                  0.09671       1  \n",
      "4                  0.07809       1  \n",
      "\n",
      "[5 rows x 33 columns]\n"
     ]
    }
   ],
   "source": [
    "#adding outliers to the dataset and shuffling the dataset\n",
    "for i in range(0,len(outliers)):\n",
    "    df.loc[len_rows+i]=outliers[i]\n",
    "\n",
    "df=df.sample(frac=1).reset_index(drop=True)\n",
    "print(df.head())\n"
   ]
  },
  {
   "cell_type": "code",
   "execution_count": 39,
   "metadata": {},
   "outputs": [],
   "source": [
    "#saving the dataset to a new csv file\n",
    "df.to_csv('../generated_datasets/breast-cancer_with_outliers.csv',index=False)"
   ]
  }
 ],
 "metadata": {
  "kernelspec": {
   "display_name": "research",
   "language": "python",
   "name": "research"
  },
  "language_info": {
   "codemirror_mode": {
    "name": "ipython",
    "version": 3
   },
   "file_extension": ".py",
   "mimetype": "text/x-python",
   "name": "python",
   "nbconvert_exporter": "python",
   "pygments_lexer": "ipython3",
   "version": "3.10.6"
  }
 },
 "nbformat": 4,
 "nbformat_minor": 2
}
